{
 "cells": [
  {
   "cell_type": "code",
   "execution_count": 3,
   "id": "9e756807-3e60-4ef4-a1b0-cd32868622d8",
   "metadata": {},
   "outputs": [
    {
     "name": "stdout",
     "output_type": "stream",
     "text": [
      "['__abs__', '__add__', '__bool__', '__ceil__', '__class__', '__delattr__', '__dir__', '__divmod__', '__doc__', '__eq__', '__float__', '__floor__', '__floordiv__', '__format__', '__ge__', '__getattribute__', '__getformat__', '__getnewargs__', '__getstate__', '__gt__', '__hash__', '__init__', '__init_subclass__', '__int__', '__le__', '__lt__', '__mod__', '__mul__', '__ne__', '__neg__', '__new__', '__pos__', '__pow__', '__radd__', '__rdivmod__', '__reduce__', '__reduce_ex__', '__repr__', '__rfloordiv__', '__rmod__', '__rmul__', '__round__', '__rpow__', '__rsub__', '__rtruediv__', '__setattr__', '__sizeof__', '__str__', '__sub__', '__subclasshook__', '__truediv__', '__trunc__', 'as_integer_ratio', 'conjugate', 'fromhex', 'hex', 'imag', 'is_integer', 'real']\n"
     ]
    }
   ],
   "source": [
    "ratio = 12 / 8\n",
    "\n",
    "# List all attributes and methods for the ratio object\n",
    "print(dir(ratio))"
   ]
  },
  {
   "cell_type": "code",
   "execution_count": 4,
   "id": "f75bc4de-b29b-4bbe-822c-1caa7bd043ae",
   "metadata": {},
   "outputs": [
    {
     "name": "stdout",
     "output_type": "stream",
     "text": [
      "['__abs__', '__add__', '__bool__', '__ceil__', '__class__', '__delattr__', '__dir__', '__divmod__', '__doc__', '__eq__', '__float__', '__floor__', '__floordiv__', '__format__', '__ge__', '__getattribute__', '__getformat__', '__getnewargs__', '__getstate__', '__gt__', '__hash__', '__init__', '__init_subclass__', '__int__', '__le__', '__lt__', '__mod__', '__mul__', '__ne__', '__neg__', '__new__', '__pos__', '__pow__', '__radd__', '__rdivmod__', '__reduce__', '__reduce_ex__', '__repr__', '__rfloordiv__', '__rmod__', '__rmul__', '__round__', '__rpow__', '__rsub__', '__rtruediv__', '__setattr__', '__sizeof__', '__str__', '__sub__', '__subclasshook__', '__truediv__', '__trunc__', 'as_integer_ratio', 'conjugate', 'fromhex', 'hex', 'imag', 'is_integer', 'real']\n"
     ]
    }
   ],
   "source": [
    "# List all attributes and methods for the float class\n",
    "print(dir(float))"
   ]
  },
  {
   "cell_type": "code",
   "execution_count": 5,
   "id": "6dfc5fb3-7a1c-4c44-84f2-b11ca4a44b86",
   "metadata": {},
   "outputs": [],
   "source": [
    "# Create an empty class Employee\n",
    "class Employee:\n",
    "    pass\n",
    "\n",
    "# Create an object emp of class Employee \n",
    "emp = Employee()"
   ]
  },
  {
   "cell_type": "code",
   "execution_count": 6,
   "id": "bc48af9a-5d83-41d8-a935-f76c02e91d95",
   "metadata": {},
   "outputs": [
    {
     "name": "stdout",
     "output_type": "stream",
     "text": [
      "Korel Rossi\n"
     ]
    }
   ],
   "source": [
    "class Employee:\n",
    "  \n",
    "  # Include a set_name method\n",
    "  def set_name(self, new_name):\n",
    "    self.name = new_name\n",
    "\n",
    "emp = Employee()\n",
    "\n",
    "# Use set_name() on emp to set the name of emp to 'Korel Rossi'\n",
    "emp.set_name('Korel Rossi')\n",
    "print(emp.name)"
   ]
  },
  {
   "cell_type": "code",
   "execution_count": 7,
   "id": "32764c28-9a32-406f-8939-9de0589fae2c",
   "metadata": {},
   "outputs": [
    {
     "name": "stdout",
     "output_type": "stream",
     "text": [
      "<__main__.Employee object at 0x0000021AA86CB910>\n",
      "50000\n"
     ]
    }
   ],
   "source": [
    "class Employee:\n",
    "  def set_name(self, new_name):\n",
    "    self.name = new_name\n",
    "  \n",
    "  # Add set_salary() method  \n",
    "  def set_salary(self, new_salary):\n",
    "    self.salary = new_salary \n",
    "\n",
    "emp = Employee()\n",
    "\n",
    "# Use set_name to set the name of emp to 'Korel Rossi'\n",
    "emp.set_name('Korel Rossi')\n",
    "\n",
    "# Set the salary of emp to 50000\n",
    "emp.set_salary(50000)\n",
    "\n",
    "# Print the emp object's salary\n",
    "print(emp)\n",
    "print(emp.salary)"
   ]
  },
  {
   "cell_type": "code",
   "execution_count": null,
   "id": "5d369e07-5af9-4013-8b22-e33d57bbaaa8",
   "metadata": {},
   "outputs": [],
   "source": []
  },
  {
   "cell_type": "code",
   "execution_count": 8,
   "id": "dc2f11ed-4191-4444-aa61-2279dbbab4c0",
   "metadata": {},
   "outputs": [
    {
     "name": "stdout",
     "output_type": "stream",
     "text": [
      "50000\n",
      "51500\n"
     ]
    }
   ],
   "source": [
    "class Employee:\n",
    "  def set_name(self, new_name):\n",
    "    self.name = new_name\n",
    "\n",
    "  def set_salary(self, new_salary):\n",
    "    self.salary = new_salary \n",
    "\n",
    "  # Add a give_raise() method with amount as an argument\n",
    "  def give_raise(self, amount):\n",
    "    self.salary = self.salary + amount\n",
    "\n",
    "# Create the emp object\n",
    "emp = Employee()\n",
    "emp.set_name('Korel Rossi')\n",
    "emp.set_salary(50000)\n",
    "\n",
    "# Print the salary\n",
    "print(emp.salary)\n",
    "\n",
    "# Give emp a raise of 1500\n",
    "emp.give_raise(1500)\n",
    "print(emp.salary)"
   ]
  },
  {
   "cell_type": "code",
   "execution_count": 9,
   "id": "60a45fa5-32c6-4cc4-b97b-43414d9b022e",
   "metadata": {},
   "outputs": [
    {
     "name": "stdout",
     "output_type": "stream",
     "text": [
      "Korel Rossi\n",
      "0\n"
     ]
    }
   ],
   "source": [
    "class Employee:\n",
    "  # Create __init__() method\n",
    "  def __init__(self, name, salary=0):\n",
    "    # Create the name and salary attributes\n",
    "    self.name = name\n",
    "    self.salary = salary\n",
    "    \n",
    "  def give_raise(self, amount):\n",
    "    self.salary += amount\n",
    "\n",
    "  def monthly_salary(self):\n",
    "    return self.salary / 12\n",
    "        \n",
    "emp = Employee(\"Korel Rossi\")\n",
    "print(emp.name)\n",
    "print(emp.salary)     "
   ]
  },
  {
   "cell_type": "code",
   "execution_count": 10,
   "id": "233ea5e5-bde2-49a8-861b-1ae666af9bad",
   "metadata": {},
   "outputs": [
    {
     "name": "stdout",
     "output_type": "stream",
     "text": [
      "Invalid salary!\n",
      "Korel Rossi\n",
      "0\n"
     ]
    }
   ],
   "source": [
    "class Employee:\n",
    "  def __init__(self, name, salary=0):\n",
    "    self.name = name\n",
    "    # Check if salary is positive\n",
    "    if salary >= 0:\n",
    "      self.salary = salary\n",
    "    else:\n",
    "      self.salary = 0\n",
    "      print(\"Invalid salary!\")\n",
    "      \n",
    "  def give_raise(self, amount):\n",
    "    self.salary += amount\n",
    "\n",
    "  def monthly_salary(self):\n",
    "    return self.salary / 12\n",
    "      \n",
    "emp = Employee(\"Korel Rossi\", -1000)\n",
    "print(emp.name)\n",
    "print(emp.salary)"
   ]
  },
  {
   "cell_type": "code",
   "execution_count": 11,
   "id": "f8f0e777-94d2-4f41-944d-35814f7f113e",
   "metadata": {},
   "outputs": [],
   "source": [
    "# Define and initialize the Calculator class\n",
    "class Calculator:\n",
    "    def __init__(self, num_one, num_two):\n",
    "        self.num_one = num_one\n",
    "        self.num_two = num_two\n",
    "  \n",
    "    # Create the addition method\n",
    "    def addition(self):\n",
    "        return self.num_one + self.num_two\n",
    "  \n",
    "    # Create the subtraction method\n",
    "    def subtraction(self):\n",
    "        return self.num_one - self.num_two\n",
    "  \n",
    "    # Create the multiplication method\n",
    "    def multiplication(self):\n",
    "        return self.num_one * self.num_two\n"
   ]
  },
  {
   "cell_type": "code",
   "execution_count": 12,
   "id": "d46435d6-e18c-4f06-af48-894408e2c3d6",
   "metadata": {},
   "outputs": [
    {
     "name": "stdout",
     "output_type": "stream",
     "text": [
      "10\n"
     ]
    }
   ],
   "source": [
    "# Create a Player class\n",
    "class Player:\n",
    "  \n",
    "  # Create MAX_POSITION class attribute\n",
    "  MAX_POSITION = 10\n",
    "  \n",
    "  # Add a constructor, setting position to zero\n",
    "  def __init__(self):\n",
    "    self.position = 0\n",
    "\n",
    "# Create a player p and print its MAX_POSITION\n",
    "p = Player()\n",
    "print(Player.MAX_POSITION)\n"
   ]
  },
  {
   "cell_type": "code",
   "execution_count": 13,
   "id": "e9879ded-2e87-4bc0-91d6-f4fac13e67f6",
   "metadata": {},
   "outputs": [
    {
     "name": "stdout",
     "output_type": "stream",
     "text": [
      "10\n"
     ]
    }
   ],
   "source": [
    "class Player:\n",
    "  MAX_POSITION = 10\n",
    "  \n",
    "  # Define a constructor\n",
    "  def __init__(self, position):\n",
    "    \n",
    "    # Check if position is less than the class-level attribute value\n",
    "    if position <= Player.MAX_POSITION:\n",
    "      self.position = position\n",
    "    \n",
    "    # If not, set equal to the class-level attribute\n",
    "    else:\n",
    "      self.position = Player.MAX_POSITION\n",
    "\n",
    "# Create a Player object, p, and print its MAX_POSITION\n",
    "p = Player(6)\n",
    "print(Player.MAX_POSITION)\n"
   ]
  },
  {
   "cell_type": "code",
   "execution_count": 14,
   "id": "6f94ab9a-524b-4207-a1e4-57d451cef083",
   "metadata": {},
   "outputs": [
    {
     "name": "stdout",
     "output_type": "stream",
     "text": [
      "MAX_POSITION of p1 and p2 before assignment:\n",
      "10\n",
      "10\n",
      "MAX_POSITION of p1 and p2 after assignment:\n",
      "7\n",
      "10\n"
     ]
    }
   ],
   "source": [
    "# Create Players p1 and p2\n",
    "p1 = Player(9)\n",
    "p2 = Player(5)\n",
    "\n",
    "print(\"MAX_POSITION of p1 and p2 before assignment:\")\n",
    "# Print p1.MAX_POSITION and p2.MAX_POSITION\n",
    "print(p1.MAX_POSITION)\n",
    "print(p2.MAX_POSITION)\n",
    "\n",
    "# Assign 7 to p1.MAX_POSITION\n",
    "p1.MAX_POSITION = 7\n",
    "\n",
    "print(\"MAX_POSITION of p1 and p2 after assignment:\")\n",
    "# Print p1.MAX_POSITION and p2.MAX_POSITION\n",
    "print(p1.MAX_POSITION)\n",
    "print(p2.MAX_POSITION)\n"
   ]
  },
  {
   "cell_type": "code",
   "execution_count": 15,
   "id": "83f4d7ef-6210-4127-b30d-7dcfccefa3a0",
   "metadata": {},
   "outputs": [
    {
     "name": "stdout",
     "output_type": "stream",
     "text": [
      "Bob 34\n"
     ]
    }
   ],
   "source": [
    "class Person:\n",
    "  CURRENT_YEAR = 2024\n",
    "  \n",
    "  def __init__(self, name, age):\n",
    "    self.name = name\n",
    "    self.age = age\n",
    "  \n",
    "  # Add a class method decorator\n",
    "  @classmethod\n",
    "  # Define the from_birth_year method\n",
    "  def from_birth_year(cls, name, birth_year):\n",
    "    # Create age\n",
    "    age = cls.CURRENT_YEAR - birth_year\n",
    "    # Return the name and age\n",
    "    return cls(name, age)\n",
    "\n",
    "# Create a Person object using the class method\n",
    "bob = Person.from_birth_year(\"Bob\", 1990)\n",
    "print(bob.name, bob.age)"
   ]
  },
  {
   "cell_type": "code",
   "execution_count": 16,
   "id": "f193f743-ade1-4e2f-8634-981535bc1e72",
   "metadata": {},
   "outputs": [
    {
     "name": "stdout",
     "output_type": "stream",
     "text": [
      "2024\n",
      "12\n",
      "25\n"
     ]
    }
   ],
   "source": [
    "class BetterDate:\n",
    "  def __init__(self, year, month, day):\n",
    "    self.year, self.month, self.day = year, month, day\n",
    "    \n",
    "  # Define a class method from_str\n",
    "  @classmethod\n",
    "  def from_str(cls, datestr):\n",
    "    # Split the string at \"-\"\n",
    "    parts = datestr.split(\"-\")\n",
    "    year, month, day = int(parts[0]), int(parts[1]), int(parts[2])\n",
    "    # Return the class instance\n",
    "    return cls(year, month, day)\n",
    "\n",
    "# Create the xmas object      \n",
    "xmas = BetterDate.from_str(\"2024-12-25\")\n",
    "print(xmas.year)\n",
    "print(xmas.month)\n",
    "print(xmas.day)"
   ]
  },
  {
   "cell_type": "code",
   "execution_count": 17,
   "id": "34b4161b-66af-41c6-8c20-a5731aa1d1ae",
   "metadata": {},
   "outputs": [
    {
     "name": "stdout",
     "output_type": "stream",
     "text": [
      "Debbie Lashko\n"
     ]
    }
   ],
   "source": [
    "class Employee:\n",
    "  MIN_SALARY = 30000    \n",
    "\n",
    "  def __init__(self, name, salary=MIN_SALARY):\n",
    "      self.name = name\n",
    "      if salary >= Employee.MIN_SALARY:\n",
    "        self.salary = salary\n",
    "      else:\n",
    "        self.salary = Employee.MIN_SALARY\n",
    "        \n",
    "  def give_raise(self, amount):\n",
    "      self.salary += amount      \n",
    "\n",
    "# Define a new class Manager inheriting from Employee\n",
    "class Manager(Employee):\n",
    "  # Add a keyword to leave this class empty\n",
    "  pass\n",
    "\n",
    "# Define a Manager object\n",
    "mng = Manager(\"Debbie Lashko\", 86500)\n",
    "\n",
    "# Print mng's name\n",
    "print(mng.name)"
   ]
  },
  {
   "cell_type": "code",
   "execution_count": 18,
   "id": "ea88ccca-97a5-432b-a121-d243da4dd2c1",
   "metadata": {},
   "outputs": [],
   "source": [
    "class Employee:\n",
    "  def __init__(self, name, salary=30000):\n",
    "    self.name = name\n",
    "    self.salary = salary\n",
    "\n",
    "  def give_raise(self, amount):\n",
    "    self.salary += amount\n",
    "\n",
    "class Manager(Employee):\n",
    "  # Add a constructor \n",
    "  def __init__(self, name, salary=50000, project=None):\n",
    "    \n",
    "    # Call the parent's constructor   \n",
    "    Employee.__init__(self, name, salary)\n",
    "    \n",
    "    # Assign project attribute\n",
    "    self.project = project\n",
    "  \n",
    "  def display(self):\n",
    "    print(\"Manager \", self.name)"
   ]
  },
  {
   "cell_type": "code",
   "execution_count": 19,
   "id": "92119b73-e1f8-4641-af92-356cea076543",
   "metadata": {},
   "outputs": [
    {
     "name": "stdout",
     "output_type": "stream",
     "text": [
      "80560.0\n"
     ]
    }
   ],
   "source": [
    "class Employee:\n",
    "  def __init__(self, name, salary=30000):\n",
    "    self.name = name\n",
    "    self.salary = salary\n",
    "\n",
    "  def give_raise(self, amount):\n",
    "    self.salary += amount\n",
    "\n",
    "class Manager(Employee):\n",
    "  def display(self):\n",
    "    print(\"Manager \", self.name)\n",
    "\n",
    "  def __init__(self, name, salary=50000, project=None):\n",
    "    Employee.__init__(self, name, salary)\n",
    "    self.project = project\n",
    "\n",
    "  # Add a give_raise method\n",
    "  def give_raise(self, amount, bonus=1.05):\n",
    "    new_amount = amount * bonus\n",
    "    Employee.give_raise(self, new_amount)\n",
    "    \n",
    "mngr = Manager(\"Ashta Dunbar\", 78500)\n",
    "mngr.give_raise(2000, bonus=1.03)\n",
    "print(mngr.salary)"
   ]
  },
  {
   "cell_type": "code",
   "execution_count": 21,
   "id": "818210a2-6400-4797-afed-6dbbd2ee0930",
   "metadata": {},
   "outputs": [
    {
     "name": "stdout",
     "output_type": "stream",
     "text": [
      "p.MAX_POSITION = 10\n",
      "r.MAX_POSITION = 15\n"
     ]
    }
   ],
   "source": [
    "class Player:\n",
    "    MAX_POSITION = 10\n",
    "\n",
    "    def __init__(self, name, position=0):\n",
    "        self.name = name\n",
    "        self.position = position\n",
    "\n",
    "# Create a Racer class inheriting from Player\n",
    "class Racer(Player):\n",
    "    # Create MAX_POSITION with a value of 15\n",
    "    MAX_POSITION = 15\n",
    "\n",
    "# Create a Player and a Racer objects\n",
    "p = Player(\"John Doe\")\n",
    "r = Racer(\"Speedy Racer\")\n",
    "\n",
    "print(\"p.MAX_POSITION =\", p.MAX_POSITION)\n",
    "print(\"r.MAX_POSITION =\", r.MAX_POSITION)\n"
   ]
  },
  {
   "cell_type": "code",
   "execution_count": 22,
   "id": "8701dab0-e24b-471a-bd1b-a49088a504fc",
   "metadata": {},
   "outputs": [
    {
     "name": "stdout",
     "output_type": "stream",
     "text": [
      "True\n",
      "False\n"
     ]
    }
   ],
   "source": [
    "class BankAccount:\n",
    "  # Modify to initialize a number attribute\n",
    "  def __init__(self, number, balance=0):\n",
    "    self.number = number  # Initialize the number attribute\n",
    "    self.balance = balance\n",
    "      \n",
    "  def withdraw(self, amount):\n",
    "    self.balance -= amount \n",
    "    \n",
    "  # Define __eq__ that returns True if the number attributes are equal \n",
    "  def __eq__(self, other):\n",
    "    return self.number == other.number\n",
    "\n",
    "# Create accounts and compare them       \n",
    "acct1 = BankAccount(123, 1000)\n",
    "acct2 = BankAccount(123, 1000)\n",
    "acct3 = BankAccount(456, 1000)\n",
    "\n",
    "print(acct1 == acct2)  # True, because both have the same number\n",
    "print(acct1 == acct3)  # False, because they have different numbers"
   ]
  },
  {
   "cell_type": "code",
   "execution_count": 23,
   "id": "c27dd361-823f-42bb-8b6b-109ab4dcc540",
   "metadata": {},
   "outputs": [
    {
     "name": "stdout",
     "output_type": "stream",
     "text": [
      "False\n"
     ]
    }
   ],
   "source": [
    "class BankAccount:\n",
    "    def __init__(self, number, balance=0):\n",
    "        self.number, self.balance = number, balance\n",
    "      \n",
    "    def withdraw(self, amount):\n",
    "        self.balance -= amount \n",
    "\n",
    "    # Modify to add a check for the class type\n",
    "    def __eq__(self, other):\n",
    "        return (self.number == other.number) and isinstance(other, BankAccount)\n",
    "\n",
    "class Phone:\n",
    "    def __init__(self, number):\n",
    "        self.number = number\n",
    "\n",
    "# Create instances of BankAccount and Phone\n",
    "acct = BankAccount(873555333)\n",
    "pn = Phone(873555333)\n",
    "\n",
    "# Check if the two objects are equal\n",
    "print(acct == pn)  # This will print False\n"
   ]
  },
  {
   "cell_type": "code",
   "execution_count": 24,
   "id": "3770686c-eda4-429f-9430-5fa7fd337830",
   "metadata": {},
   "outputs": [
    {
     "name": "stdout",
     "output_type": "stream",
     "text": [
      "Employee('Amar Howard', 30000)\n",
      "Employee('Carolyn Ramirez', 35000)\n"
     ]
    }
   ],
   "source": [
    "class Employee:\n",
    "    def __init__(self, name, salary=30000):\n",
    "        self.name, self.salary = name, salary\n",
    "      \n",
    "    # Add the __repr__() method  \n",
    "    def __repr__(self):\n",
    "        emp_str = f\"Employee('{self.name}', {self.salary})\"\n",
    "        return emp_str    \n",
    "\n",
    "emp1 = Employee(\"Amar Howard\", 30000)\n",
    "print(repr(emp1))\n",
    "emp2 = Employee(\"Carolyn Ramirez\", 35000)\n",
    "print(repr(emp2))"
   ]
  },
  {
   "cell_type": "code",
   "execution_count": 25,
   "id": "51bf0979-c0d8-4921-a34f-09d544dff039",
   "metadata": {},
   "outputs": [
    {
     "name": "stdout",
     "output_type": "stream",
     "text": [
      "Employee name: Amar Howard\n",
      "Employee salary: 30000\n",
      "Employee name: Carolyn Ramirez\n",
      "Employee salary: 35000\n"
     ]
    }
   ],
   "source": [
    "class Employee:\n",
    "    def __init__(self, name, salary=30000):\n",
    "        self.name, self.salary = name, salary\n",
    "            \n",
    "    # Add the __str__() method\n",
    "    def __str__(self):\n",
    "        emp_str = f\"\"\"Employee name: {self.name}\n",
    "Employee salary: {self.salary}\"\"\"\n",
    "        return emp_str\n",
    "\n",
    "emp1 = Employee(\"Amar Howard\", 30000)\n",
    "print(emp1)\n",
    "emp2 = Employee(\"Carolyn Ramirez\", 35000)\n",
    "print(emp2)\n"
   ]
  },
  {
   "cell_type": "code",
   "execution_count": 26,
   "id": "c52994d6-c663-4bfe-a979-826ef9a20bc4",
   "metadata": {},
   "outputs": [
    {
     "name": "stdout",
     "output_type": "stream",
     "text": [
      "0.16666666666666666\n",
      "Cannot divide by zero!\n",
      "None\n",
      "Index out of range!\n",
      "None\n"
     ]
    }
   ],
   "source": [
    "# Modify the function to catch exceptions\n",
    "def invert_at_index(x, ind):\n",
    "    try:\n",
    "        return 1 / x[ind]\n",
    "    except ZeroDivisionError:\n",
    "        print(\"Cannot divide by zero!\")\n",
    "    except IndexError:\n",
    "        print(\"Index out of range!\")\n",
    "\n",
    "a_list = [5, 6, 0, 7]\n",
    "\n",
    "# Works okay\n",
    "print(invert_at_index(a_list, 1))  # Output: 0.16666666666666666\n",
    "\n",
    "# Potential ZeroDivisionError\n",
    "print(invert_at_index(a_list, 2))  # Output: Cannot divide by zero! None\n",
    "\n",
    "# Potential IndexError\n",
    "print(invert_at_index(a_list, 5))  # Output: Index out of range! None"
   ]
  },
  {
   "cell_type": "code",
   "execution_count": 27,
   "id": "1b85e3bd-8b91-4c84-8102-dd79379cb625",
   "metadata": {},
   "outputs": [],
   "source": [
    "# Define SalaryError inherited from ValueError\n",
    "class SalaryError(ValueError):\n",
    "    pass\n",
    "\n",
    "# Define BonusError inherited from SalaryError\n",
    "class BonusError(SalaryError):\n",
    "    pass"
   ]
  },
  {
   "cell_type": "code",
   "execution_count": 28,
   "id": "409aa8f8-071a-4e97-8c88-a9114e1c6750",
   "metadata": {},
   "outputs": [],
   "source": [
    "class SalaryError(ValueError): \n",
    "    pass\n",
    "\n",
    "class BonusError(SalaryError): \n",
    "    pass\n",
    "\n",
    "class Employee:\n",
    "    MIN_SALARY = 30000\n",
    "    MAX_RAISE = 5000\n",
    "\n",
    "    def __init__(self, name, salary=30000):\n",
    "        self.name = name\n",
    "        \n",
    "        # If salary is too low\n",
    "        if salary < Employee.MIN_SALARY:\n",
    "            # Raise a SalaryError exception\n",
    "            raise SalaryError(\"Salary is too low!\")\n",
    "          \n",
    "        self.salary = salary\n"
   ]
  },
  {
   "cell_type": "code",
   "execution_count": 29,
   "id": "f38a6302-1140-44ac-8844-5c77e92d84d1",
   "metadata": {},
   "outputs": [],
   "source": [
    "class SalaryError(ValueError): \n",
    "    pass\n",
    "\n",
    "class BonusError(SalaryError): \n",
    "    pass\n",
    "\n",
    "class Employee:\n",
    "    MIN_SALARY = 30000\n",
    "    MAX_BONUS = 5000\n",
    "\n",
    "    def __init__(self, name, salary=30000):\n",
    "        self.name = name    \n",
    "        if salary < Employee.MIN_SALARY:\n",
    "            raise SalaryError(\"Salary is too low!\")      \n",
    "        self.salary = salary\n",
    "    \n",
    "    # Raise exceptions  \n",
    "    def give_bonus(self, amount):\n",
    "        if amount > Employee.MAX_BONUS:\n",
    "            raise BonusError(\"The bonus amount is too high!\")  \n",
    "            \n",
    "        elif self.salary + amount < Employee.MIN_SALARY:\n",
    "            raise SalaryError(\"The salary after bonus is too low!\")\n",
    "          \n",
    "        self.salary += amount\n",
    "\n",
    "\n",
    "\n"
   ]
  },
  {
   "cell_type": "code",
   "execution_count": null,
   "id": "e6205677-9a6e-4dbf-8830-04b4dd882b44",
   "metadata": {},
   "outputs": [],
   "source": []
  },
  {
   "cell_type": "code",
   "execution_count": null,
   "id": "af791bb0-7fff-41fe-a46b-e3dc07ffedc9",
   "metadata": {},
   "outputs": [],
   "source": []
  }
 ],
 "metadata": {
  "kernelspec": {
   "display_name": "Python 3 (ipykernel)",
   "language": "python",
   "name": "python3"
  },
  "language_info": {
   "codemirror_mode": {
    "name": "ipython",
    "version": 3
   },
   "file_extension": ".py",
   "mimetype": "text/x-python",
   "name": "python",
   "nbconvert_exporter": "python",
   "pygments_lexer": "ipython3",
   "version": "3.11.7"
  }
 },
 "nbformat": 4,
 "nbformat_minor": 5
}
